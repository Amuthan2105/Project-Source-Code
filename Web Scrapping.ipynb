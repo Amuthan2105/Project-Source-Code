{
 "cells": [
  {
   "cell_type": "code",
   "execution_count": null,
   "id": "aecdc22e",
   "metadata": {},
   "outputs": [],
   "source": [
    "#Import Necessay Libraries\n",
    "import pandas as pd\n",
    "import requests\n",
    "from bs4 import BeautifulSoup as bs\n",
    "import re"
   ]
  },
  {
   "cell_type": "code",
   "execution_count": null,
   "id": "8a587178",
   "metadata": {},
   "outputs": [],
   "source": [
    "reviewlist=[]"
   ]
  },
  {
   "cell_type": "code",
   "execution_count": null,
   "id": "202cbb67",
   "metadata": {},
   "outputs": [],
   "source": [
    "url='https://www.amazon.in/New-Apple-iPhone-12-128GB/product-reviews/B08L5WD9D6/ref=cm_cr_arp_d_paging_btm_next_2?ie=UTF8&reviewerType=all_reviews&pageNumber=1'"
   ]
  },
  {
   "cell_type": "code",
   "execution_count": null,
   "id": "55edf3b2",
   "metadata": {},
   "outputs": [],
   "source": [
    "def get_soup(url):\n",
    "    r={\"User-Agent\": \"Mozilla/5.0 (Windows NT 10.0; Win64; x64) AppleWebKit/537.36 (KHTML, like Gecko) Chrome/99.0.4844.74 Safari/537.36 Edg/99.0.1150.46\"}\n",
    "    page=requests.get(url,headers=r)\n",
    "    soup=bs(page.content,'html.parser')\n",
    "    soup=bs(soup.prettify())\n",
    "    return soup"
   ]
  },
  {
   "cell_type": "code",
   "execution_count": null,
   "id": "18cce0d0",
   "metadata": {},
   "outputs": [],
   "source": [
    "\n",
    "def get_reviews(soup):\n",
    "    reviews=soup.find_all('div',{'data-hook':'review'})\n",
    "    try:\n",
    "        for item in reviews:\n",
    "            review= {\n",
    "            'Product Name':soup.title.get_text().replace('Amazon.in:Customer reviews:',\"\" ).strip(),\n",
    "            'Title':item.find('a',{'data-hook':'review-title'}).get_text().strip(),\n",
    "            'Rating':float(item.find('i',{'data-hook':'review-star-rating'}).get_text().replace('out of 5 stars',\"\").strip()),\n",
    "            'Body':item.find('span',{'data-hook':'review-body'}).get_text().strip(),\n",
    "            }\n",
    "            reviewlist.append(review)\n",
    "    except:\n",
    "        pass"
   ]
  },
  {
   "cell_type": "code",
   "execution_count": null,
   "id": "8598d29d",
   "metadata": {},
   "outputs": [],
   "source": [
    "soup=get_soup('https://www.amazon.in/New-Apple-iPhone-12-128GB/product-reviews/B08L5WD9D6/ref=cm_cr_arp_d_paging_btm_next_2?ie=UTF8&reviewerType=all_reviews&pageNumber=1')"
   ]
  },
  {
   "cell_type": "code",
   "execution_count": null,
   "id": "d0d766d3",
   "metadata": {},
   "outputs": [],
   "source": [
    "get_reviews(soup)"
   ]
  },
  {
   "cell_type": "code",
   "execution_count": null,
   "id": "478b0df0",
   "metadata": {},
   "outputs": [],
   "source": [
    "len(reviewlist)"
   ]
  },
  {
   "cell_type": "code",
   "execution_count": null,
   "id": "3b8ad3fe",
   "metadata": {},
   "outputs": [],
   "source": [
    "for x in range(1,15):\n",
    "    soup=get_soup(f'https://www.amazon.in/New-Apple-iPhone-12-128GB/product-reviews/B08L5WD9D6/ref=cm_cr_arp_d_paging_btm_next_2?ie=UTF8&reviewerType=all_reviews&pageNumber={x}')\n",
    "    print(f'getting page:{x}')\n",
    "    get_reviews(soup)\n",
    "\n",
    "    print(len(reviewlist))\n",
    "    if not soup.find('li',{'class':'a-diabled a-last'}):\n",
    "        pass\n",
    "    else:\n",
    "        break"
   ]
  },
  {
   "cell_type": "code",
   "execution_count": null,
   "id": "e1dd8fec",
   "metadata": {},
   "outputs": [],
   "source": [
    "df=pd.DataFrame(reviewlist)\n",
    "df.to_csv('amazonreview.csv',index=False)"
   ]
  }
 ],
 "metadata": {
  "kernelspec": {
   "display_name": "Python 3 (ipykernel)",
   "language": "python",
   "name": "python3"
  },
  "language_info": {
   "codemirror_mode": {
    "name": "ipython",
    "version": 3
   },
   "file_extension": ".py",
   "mimetype": "text/x-python",
   "name": "python",
   "nbconvert_exporter": "python",
   "pygments_lexer": "ipython3",
   "version": "3.9.10"
  }
 },
 "nbformat": 4,
 "nbformat_minor": 5
}
